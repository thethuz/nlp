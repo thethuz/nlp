{
 "cells": [
  {
   "cell_type": "code",
   "execution_count": 3,
   "metadata": {},
   "outputs": [],
   "source": [
    "import json\n",
    "import codecs\n",
    "from pprint import pprint\n",
    "from pyvi.pyvi import ViTokenizer,ViPosTagger\n",
    "\n",
    "def tupToList(tup,entity_tup):\n",
    "    list1=[]\n",
    "#     print(entity_tup)\n",
    "#     print(tup)\n",
    "    for item in tup[0]:\n",
    "        index=tup[0].index(item)\n",
    "#         print(index)\n",
    "        tup_=(item,tup[1][index],entity_tup[index])\n",
    "        list1.append(tup_)\n",
    "    return list1\n",
    "\n",
    "# data = json.load(open('nga-2.json'))\n",
    "data = json.load(codecs.open('nga-2.json', 'r', 'utf-8-sig'))\n",
    "example_list=data['rasa_nlu_data']['common_examples']\n",
    "data_train=[]\n",
    "for example in example_list:\n",
    "    entity_name_list=[]\n",
    "    tuple_entity_list=[]\n",
    "    entity_type_list=[]\n",
    "    \n",
    "    row=example['text']\n",
    "    entity_list=example['entities']\n",
    "    \n",
    "    for entity in entity_list:\n",
    "        entity_name_list.append(entity['value'])\n",
    "        entity_type_list.append(entity['entity'])\n",
    "#     print(entity_name_list)\n",
    "#     ['Bạch_Mai', 'Hai_Bà_Trưng']\n",
    "#     print(entity_type_list)\n",
    "    for entity in entity_name_list:\n",
    "        if entity in row:\n",
    "#             print(entity)\n",
    "            row=row.replace(entity,entity.replace(\" \",'_'))\n",
    "            entity=entity.replace(\" \",'_')\n",
    "    \n",
    "\n",
    "    pre_tup=ViPosTagger.postagging(row)\n",
    "    entity_tup=[]\n",
    "    for text in row.split(' '):\n",
    "        if text in entity_name_list:\n",
    "#             print(entity_type_list[entity_name_list.index(text)])\n",
    "            entity_tup.append(entity_type_list[entity_name_list.index(text)])\n",
    "        else:\n",
    "            entity_tup.append('0')\n",
    "#     print(pre_tup)\n",
    "#     print(entity_tup)\n",
    "\n",
    "    tup=tupToList(pre_tup,entity_tup)\n",
    "    data_train.append(tup)\n",
    "    # print(example)\n",
    "# data_train\n"
   ]
  },
  {
   "cell_type": "code",
   "execution_count": 4,
   "metadata": {},
   "outputs": [],
   "source": [
    "def writeListFile(filename,data):\n",
    "    str_out=''\n",
    "    for item in data:\n",
    "        for tup in item:\n",
    "            str_out+=tup[0]+\" \"+tup[1]+\" \"+tup[2]+\"\\n\"\n",
    "        str_out+=\"\\n\"\n",
    "#     print(str_out)\n",
    "    F = open(filename,\"w\")\n",
    "    F.write(str(str_out))"
   ]
  },
  {
   "cell_type": "code",
   "execution_count": 5,
   "metadata": {},
   "outputs": [],
   "source": [
    "writeListFile('train2.pre',data_train)"
   ]
  }
 ],
 "metadata": {
  "kernelspec": {
   "display_name": "Python 3",
   "language": "python",
   "name": "python3"
  },
  "language_info": {
   "codemirror_mode": {
    "name": "ipython",
    "version": 3
   },
   "file_extension": ".py",
   "mimetype": "text/x-python",
   "name": "python",
   "nbconvert_exporter": "python",
   "pygments_lexer": "ipython3",
   "version": "3.4.3"
  }
 },
 "nbformat": 4,
 "nbformat_minor": 2
}
