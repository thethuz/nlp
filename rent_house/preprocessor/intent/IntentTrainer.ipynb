{
 "cells": [
  {
   "cell_type": "code",
   "execution_count": 1,
   "metadata": {},
   "outputs": [
    {
     "name": "stdout",
     "output_type": "stream",
     "text": [
      "['hả', 'bot', 'ơi', 'bạn', 'bài', 'do', 'à']\n"
     ]
    }
   ],
   "source": [
    "from pyvi.pyvi import ViTokenizer\n",
    "import settings\n",
    "from sklearn.svm import LinearSVC\n",
    "import os\n",
    "from gensim import corpora, matutils\n",
    "from sklearn.metrics import classification_report\n",
    "\n",
    "data_train=[]\n",
    "label_train=[]\n",
    "stop_words=[]\n",
    "dict_words=[]\n",
    "dictionary=None\n",
    "# load dữ liệu\n",
    "def load_data(filename):\n",
    "    data=[]\n",
    "    label=[]\n",
    "    f = open(filename)\n",
    "    next(f)\n",
    "    for row in f:\n",
    "        split_rows = row.split( )\n",
    "#         print(split_rows)\n",
    "        label.append(split_rows[0])\n",
    "\n",
    "        for split_row in stop_words:\n",
    "            if split_row in split_rows:\n",
    "                split_rows.remove(split_row)\n",
    "        sentences=ViTokenizer.tokenize(\" \".join(str(x) for x in split_rows[1:]))\n",
    "        sentences=sentences.strip('0123456789%@$.,=+-!;/()*\"&^:#|\\n\\t\\'?')\n",
    "        sentences=sentences.replace(\"<\", \"\")\n",
    "        sentences=sentences.replace(\">\", \"\")\n",
    "        data.append(sentences)\n",
    "    return data,label\n",
    "\n",
    "# loại bỏ các từ dừng\n",
    "def get_stop_word():\n",
    "    f = open(\"stopwords.txt\")\n",
    "    for row in f:\n",
    "        stop_words.append(row.strip('0123456789%@$.,=+-!;/()*\"&^:#|\\n\\t\\''))\n",
    "get_stop_word()\n",
    "print(stop_words)\n",
    "\n",
    "# xây dựng từ điển\n",
    "def dict_build():\n",
    "    filePath=\"dict.txt\"\n",
    "    print ('Building dictionary')\n",
    "    dict_words = []\n",
    "    i = 0\n",
    "    for text in data_train:\n",
    "        i += 1\n",
    "#         print (\"Step {} / {}\".format(i, len(data_train)))\n",
    "        words=text.split( )\n",
    "#         print(words)\n",
    "        dict_words.append(words)\n",
    "#     print(dict_words)\n",
    "    dictionary = corpora.Dictionary(dict_words)\n",
    "    dictionary.filter_extremes(no_below=1, no_above=0.3)\n",
    "    dictionary.save_as_text(filePath)\n",
    "\n",
    "# load từ điển\n",
    "def __load_dictionary():\n",
    "    filePath=\"dict.txt\"\n",
    "    dictionary = corpora.Dictionary.load_from_text(filePath)\n",
    "    return dictionary\n",
    "# xây dựng vector bag of word\n",
    "# vector hóa dữ liệu\n",
    "def get_dense(words):\n",
    "    dictionary=__load_dictionary()\n",
    "    vec = dictionary.doc2bow(words)\n",
    "    dense = list(matutils.corpus2dense([vec], num_terms=len(dictionary)).T[0])\n",
    "    return dense\n",
    "# phân loại sử dụng svm\n"
   ]
  },
  {
   "cell_type": "code",
   "execution_count": 2,
   "metadata": {},
   "outputs": [
    {
     "data": {
      "text/plain": [
       "[0.0,\n",
       " 0.0,\n",
       " 0.0,\n",
       " 0.0,\n",
       " 0.0,\n",
       " 0.0,\n",
       " 0.0,\n",
       " 0.0,\n",
       " 0.0,\n",
       " 0.0,\n",
       " 0.0,\n",
       " 0.0,\n",
       " 0.0,\n",
       " 0.0,\n",
       " 0.0,\n",
       " 0.0,\n",
       " 0.0,\n",
       " 0.0,\n",
       " 0.0,\n",
       " 0.0,\n",
       " 0.0,\n",
       " 0.0,\n",
       " 0.0,\n",
       " 0.0,\n",
       " 0.0,\n",
       " 0.0,\n",
       " 0.0,\n",
       " 0.0,\n",
       " 0.0,\n",
       " 0.0,\n",
       " 0.0,\n",
       " 0.0,\n",
       " 0.0,\n",
       " 0.0,\n",
       " 0.0,\n",
       " 0.0,\n",
       " 0.0,\n",
       " 0.0,\n",
       " 0.0,\n",
       " 0.0,\n",
       " 0.0,\n",
       " 0.0,\n",
       " 0.0,\n",
       " 0.0,\n",
       " 0.0,\n",
       " 0.0,\n",
       " 0.0,\n",
       " 0.0,\n",
       " 0.0,\n",
       " 0.0,\n",
       " 0.0,\n",
       " 0.0,\n",
       " 0.0,\n",
       " 0.0,\n",
       " 0.0,\n",
       " 0.0,\n",
       " 0.0,\n",
       " 0.0,\n",
       " 0.0,\n",
       " 0.0,\n",
       " 0.0,\n",
       " 0.0,\n",
       " 0.0,\n",
       " 0.0,\n",
       " 0.0,\n",
       " 0.0,\n",
       " 0.0,\n",
       " 0.0,\n",
       " 0.0,\n",
       " 0.0,\n",
       " 0.0,\n",
       " 0.0,\n",
       " 0.0,\n",
       " 0.0,\n",
       " 0.0,\n",
       " 0.0,\n",
       " 0.0,\n",
       " 0.0,\n",
       " 0.0,\n",
       " 0.0,\n",
       " 0.0,\n",
       " 0.0,\n",
       " 0.0,\n",
       " 0.0,\n",
       " 0.0,\n",
       " 0.0,\n",
       " 0.0,\n",
       " 0.0,\n",
       " 0.0,\n",
       " 0.0,\n",
       " 0.0,\n",
       " 1.0,\n",
       " 0.0,\n",
       " 1.0,\n",
       " 0.0,\n",
       " 0.0,\n",
       " 0.0,\n",
       " 0.0,\n",
       " 0.0,\n",
       " 0.0,\n",
       " 0.0,\n",
       " 0.0,\n",
       " 1.0,\n",
       " 0.0,\n",
       " 0.0,\n",
       " 0.0,\n",
       " 0.0,\n",
       " 0.0,\n",
       " 0.0,\n",
       " 0.0,\n",
       " 0.0,\n",
       " 0.0,\n",
       " 0.0,\n",
       " 0.0,\n",
       " 0.0,\n",
       " 0.0,\n",
       " 0.0,\n",
       " 0.0,\n",
       " 0.0,\n",
       " 0.0,\n",
       " 0.0,\n",
       " 0.0,\n",
       " 0.0,\n",
       " 0.0,\n",
       " 0.0,\n",
       " 0.0,\n",
       " 0.0]"
      ]
     },
     "execution_count": 2,
     "metadata": {},
     "output_type": "execute_result"
    }
   ],
   "source": [
    "get_dense(['xin', 'chào', 'bot'])"
   ]
  },
  {
   "cell_type": "code",
   "execution_count": 7,
   "metadata": {},
   "outputs": [
    {
     "name": "stdout",
     "output_type": "stream",
     "text": [
      "Building dictionary\n"
     ]
    }
   ],
   "source": [
    "data_train,label_train=load_data(\"train2.txt\")\n",
    "dict_build()"
   ]
  },
  {
   "cell_type": "code",
   "execution_count": 8,
   "metadata": {},
   "outputs": [
    {
     "name": "stdout",
     "output_type": "stream",
     "text": [
      "142\n",
      "34\n"
     ]
    }
   ],
   "source": [
    "data_train,label_train=load_data(\"train2.txt\")\n",
    "data_test,label_test=load_data(\"test2.txt\")\n",
    "# print(data_train)\n",
    "vector_train=[]\n",
    "vector_test=[]\n",
    "for data_ in data_train:\n",
    "#     print(data_.split( ))\n",
    "    vector_train.append(get_dense(data_.split( )))\n",
    "for data__ in data_test:\n",
    "#     print(data_.split( ))\n",
    "    vector_test.append(get_dense(data__.split( )))\n",
    "print(len(vector_train))\n",
    "print(len(vector_test))"
   ]
  },
  {
   "cell_type": "code",
   "execution_count": 9,
   "metadata": {},
   "outputs": [
    {
     "name": "stdout",
     "output_type": "stream",
     "text": [
      "LinearSVC(C=1.0, class_weight=None, dual=True, fit_intercept=True,\n",
      "     intercept_scaling=1, loss='squared_hinge', max_iter=1000,\n",
      "     multi_class='ovr', penalty='l2', random_state=0, tol=0.0001,\n",
      "     verbose=0)\n",
      "                   precision    recall  f1-score   support\n",
      "\n",
      "__label__greeting       0.93      1.00      0.96        13\n",
      "   __label__house       0.82      0.90      0.86        10\n",
      "   __label__price       1.00      0.82      0.90        11\n",
      "\n",
      "      avg / total       0.92      0.91      0.91        34\n",
      "\n",
      "['__label__price']\n"
     ]
    }
   ],
   "source": [
    "estimator = LinearSVC(random_state=0)\n",
    "print(estimator)\n",
    "estimator.fit(vector_train,label_train)\n",
    "y_true, y_pred = label_test, estimator.predict(vector_test)\n",
    "from sklearn.metrics import classification_report\n",
    "print(classification_report(y_true, y_pred))\n",
    "import pickle\n",
    "v1=get_dense('giá chung_cư quận Thanh_Xuân bao_nhiêu'.split( ))\n",
    "mtrix=[v1]\n",
    "result=estimator.predict(mtrix)\n",
    "print(result)\n",
    "f = open('../model/intent_model.pkl', 'wb')\n",
    "pickle.dump(estimator, f)\n",
    "f.close()"
   ]
  },
  {
   "cell_type": "code",
   "execution_count": 6,
   "metadata": {
    "scrolled": false
   },
   "outputs": [
    {
     "ename": "NameError",
     "evalue": "name 'data' is not defined",
     "output_type": "error",
     "traceback": [
      "\u001b[0;31m---------------------------------------------------------------------------\u001b[0m",
      "\u001b[0;31mNameError\u001b[0m                                 Traceback (most recent call last)",
      "\u001b[0;32m<ipython-input-6-aeab17684712>\u001b[0m in \u001b[0;36m<module>\u001b[0;34m()\u001b[0m\n\u001b[1;32m      1\u001b[0m \u001b[0mdata_train\u001b[0m\u001b[0;34m,\u001b[0m\u001b[0mlabel_train\u001b[0m\u001b[0;34m=\u001b[0m\u001b[0mload_data\u001b[0m\u001b[0;34m(\u001b[0m\u001b[0;34m\"train.txt\"\u001b[0m\u001b[0;34m)\u001b[0m\u001b[0;34m\u001b[0m\u001b[0m\n\u001b[0;32m----> 2\u001b[0;31m \u001b[0mprint\u001b[0m \u001b[0;34m(\u001b[0m\u001b[0mdata\u001b[0m\u001b[0;34m[\u001b[0m\u001b[0;34m:\u001b[0m\u001b[0;36m10\u001b[0m\u001b[0;34m]\u001b[0m\u001b[0;34m)\u001b[0m\u001b[0;34m\u001b[0m\u001b[0m\n\u001b[0m\u001b[1;32m      3\u001b[0m \u001b[0mprint\u001b[0m \u001b[0;34m(\u001b[0m\u001b[0mlabel\u001b[0m\u001b[0;34m[\u001b[0m\u001b[0;34m:\u001b[0m\u001b[0;36m10\u001b[0m\u001b[0;34m]\u001b[0m\u001b[0;34m)\u001b[0m\u001b[0;34m\u001b[0m\u001b[0m\n",
      "\u001b[0;31mNameError\u001b[0m: name 'data' is not defined"
     ]
    }
   ],
   "source": [
    "data_train,label_train=load_data(\"train.txt\")\n",
    "print (data[:10])\n",
    "print (label[:10])"
   ]
  },
  {
   "cell_type": "code",
   "execution_count": 7,
   "metadata": {},
   "outputs": [
    {
     "ename": "NameError",
     "evalue": "name 'remove_stop_word' is not defined",
     "output_type": "error",
     "traceback": [
      "\u001b[0;31m---------------------------------------------------------------------------\u001b[0m",
      "\u001b[0;31mNameError\u001b[0m                                 Traceback (most recent call last)",
      "\u001b[0;32m<ipython-input-7-4ae571102f99>\u001b[0m in \u001b[0;36m<module>\u001b[0;34m()\u001b[0m\n\u001b[0;32m----> 1\u001b[0;31m \u001b[0mremove_stop_word\u001b[0m\u001b[0;34m(\u001b[0m\u001b[0;34m)\u001b[0m\u001b[0;34m\u001b[0m\u001b[0m\n\u001b[0m\u001b[1;32m      2\u001b[0m \u001b[0mprint\u001b[0m\u001b[0;34m(\u001b[0m\u001b[0mstop_words\u001b[0m\u001b[0;34m)\u001b[0m\u001b[0;34m\u001b[0m\u001b[0m\n",
      "\u001b[0;31mNameError\u001b[0m: name 'remove_stop_word' is not defined"
     ]
    }
   ],
   "source": [
    "remove_stop_word()\n",
    "print(stop_words)"
   ]
  }
 ],
 "metadata": {
  "kernelspec": {
   "display_name": "Python 3",
   "language": "python",
   "name": "python3"
  },
  "language_info": {
   "codemirror_mode": {
    "name": "ipython",
    "version": 3
   },
   "file_extension": ".py",
   "mimetype": "text/x-python",
   "name": "python",
   "nbconvert_exporter": "python",
   "pygments_lexer": "ipython3",
   "version": "3.4.3"
  }
 },
 "nbformat": 4,
 "nbformat_minor": 2
}
