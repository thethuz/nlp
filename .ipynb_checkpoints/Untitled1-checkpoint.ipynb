{
 "cells": [
  {
   "cell_type": "code",
   "execution_count": 40,
   "metadata": {},
   "outputs": [],
   "source": [
    "from pymongo import MongoClient\n",
    "client = MongoClient('mongodb://localhost:27017/')\n",
    "db=client.airbnb\n",
    "booking=db.booking\n",
    "homes_col=db.airbnb_homes\n",
    "prices_col=db.prices\n",
    "homes=homes_col.find({})"
   ]
  },
  {
   "cell_type": "code",
   "execution_count": 51,
   "metadata": {},
   "outputs": [
    {
     "name": "stdout",
     "output_type": "stream",
     "text": [
      "1738\n"
     ]
    }
   ],
   "source": [
    "homes=homes_col.find({})\n",
    "wards=[]\n",
    "prices={}\n",
    "count={}\n",
    "ave={}\n",
    "for home in homes:\n",
    "    ward=home[\"details\"][\"ward\"]+' '+home[\"details\"][\"district\"]+' '+home[\"details\"][\"province\"]\n",
    "    \n",
    "    if ward not in wards:\n",
    "        wards.append(ward)\n",
    "        prices[ward]=0.0\n",
    "        count[ward]=0\n",
    "    try:\n",
    "        prices[ward]+=home[\"details\"][\"price\"]\n",
    "    except:\n",
    "        if count[ward]!=0:\n",
    "            prices[ward]+=prices[ward]/count[ward]            \n",
    "    count[ward]+=1\n",
    "# print(prices)\n",
    "# print(count)\n",
    "for key in prices:\n",
    "    if count[key]!=0:\n",
    "        ave[key]=prices[key]/count[key]\n",
    "    else:\n",
    "        ave[key]=0\n",
    "print(len(ave.items()))"
   ]
  },
  {
   "cell_type": "code",
   "execution_count": 54,
   "metadata": {},
   "outputs": [
    {
     "name": "stdout",
     "output_type": "stream",
     "text": [
      "1738\n"
     ]
    },
    {
     "data": {
      "text/plain": [
       "<pymongo.results.InsertManyResult at 0x7fd496478548>"
      ]
     },
     "execution_count": 54,
     "metadata": {},
     "output_type": "execute_result"
    }
   ],
   "source": [
    "homes=homes_col.find({})\n",
    "ave_insert=[]\n",
    "wards=[]\n",
    "# for home in homes:\n",
    "#     ave_item={}\n",
    "#     ave_item[\"ward\"]=home[\"details\"][\"ward\"]\n",
    "#     ave_item[\"district\"]=home[\"details\"][\"district\"]\n",
    "#     ave_item[\"province\"]=home[\"details\"][\"province\"]\n",
    "#     ward=home[\"details\"][\"ward\"]+' '+home[\"details\"][\"district\"]+' '+home[\"details\"][\"province\"]\n",
    "#     if ward not in wards:\n",
    "#     ave_item['ave']=ave[ward]\n",
    "#     ave_insert.append(ave_item)\n",
    "# print(ave_insert)\n",
    "for key in ave:\n",
    "    ave_insert.append({key:ave[key]})\n",
    "print(len(ave_insert))\n"
   ]
  },
  {
   "cell_type": "code",
   "execution_count": null,
   "metadata": {},
   "outputs": [],
   "source": [
    "prices_col.insert_many(ave_insert)"
   ]
  },
  {
   "cell_type": "code",
   "execution_count": 55,
   "metadata": {},
   "outputs": [
    {
     "name": "stdout",
     "output_type": "stream",
     "text": [
      "446\n",
      "446\n"
     ]
    }
   ],
   "source": [
    "homes=homes_col.find({})\n",
    "wards=[]\n",
    "prices={}\n",
    "count={}\n",
    "ave={}\n",
    "for home in homes:\n",
    "    ward=home[\"details\"][\"district\"]+' '+home[\"details\"][\"province\"]\n",
    "    \n",
    "    if ward not in wards:\n",
    "        wards.append(ward)\n",
    "        prices[ward]=0.0\n",
    "        count[ward]=0\n",
    "    try:\n",
    "        prices[ward]+=home[\"details\"][\"price\"]\n",
    "    except:\n",
    "        if count[ward]!=0:\n",
    "            prices[ward]+=prices[ward]/count[ward]            \n",
    "    count[ward]+=1\n",
    "print(len(prices.items()))\n",
    "# print(count)\n",
    "for key in prices:\n",
    "    if count[key]!=0:\n",
    "        ave[key]=prices[key]/count[key]\n",
    "    else:\n",
    "        ave[key]=0\n",
    "print(len(ave.items()))"
   ]
  },
  {
   "cell_type": "code",
   "execution_count": 56,
   "metadata": {},
   "outputs": [
    {
     "name": "stdout",
     "output_type": "stream",
     "text": [
      "446\n"
     ]
    }
   ],
   "source": [
    "homes=homes_col.find({})\n",
    "ave_insert=[]\n",
    "# for home in homes:\n",
    "#     ave_item={}\n",
    "#     ave_item[\"district\"]=home[\"details\"][\"district\"]\n",
    "#     ave_item[\"province\"]=home[\"details\"][\"province\"]\n",
    "#     ward=home[\"details\"][\"district\"]+' '+home[\"details\"][\"province\"]\n",
    "#     ave_item['ave']=ave[ward]\n",
    "#     ave_insert.append(ave_item)\n",
    "for key in ave:\n",
    "    ave_insert.append({key:ave[key]})\n",
    "print(len(ave_insert))\n",
    "# prices_col.insert_many(ave_insert)"
   ]
  },
  {
   "cell_type": "code",
   "execution_count": 57,
   "metadata": {},
   "outputs": [
    {
     "data": {
      "text/plain": [
       "<pymongo.results.InsertManyResult at 0x7fd4943365c8>"
      ]
     },
     "execution_count": 57,
     "metadata": {},
     "output_type": "execute_result"
    }
   ],
   "source": [
    "prices_col.insert_many(ave_insert)"
   ]
  },
  {
   "cell_type": "code",
   "execution_count": 58,
   "metadata": {},
   "outputs": [
    {
     "name": "stdout",
     "output_type": "stream",
     "text": [
      "63\n",
      "63\n",
      "63\n"
     ]
    }
   ],
   "source": [
    "homes=homes_col.find({})\n",
    "wards=[]\n",
    "prices={}\n",
    "count={}\n",
    "ave={}\n",
    "for home in homes:\n",
    "    ward=home[\"details\"][\"province\"]\n",
    "    \n",
    "    if ward not in wards:\n",
    "        wards.append(ward)\n",
    "        prices[ward]=0.0\n",
    "        count[ward]=0\n",
    "    try:\n",
    "        prices[ward]+=home[\"details\"][\"price\"]\n",
    "    except:\n",
    "        if count[ward]!=0:\n",
    "            prices[ward]+=prices[ward]/count[ward]            \n",
    "    count[ward]+=1\n",
    "print(len(prices.items()))\n",
    "# print(count)\n",
    "for key in prices:\n",
    "    if count[key]!=0:\n",
    "        ave[key]=prices[key]/count[key]\n",
    "    else:\n",
    "        ave[key]=0\n",
    "print(len(ave.items()))\n"
   ]
  },
  {
   "cell_type": "code",
   "execution_count": 59,
   "metadata": {},
   "outputs": [
    {
     "data": {
      "text/plain": [
       "<pymongo.results.InsertManyResult at 0x7fd495b4ce48>"
      ]
     },
     "execution_count": 59,
     "metadata": {},
     "output_type": "execute_result"
    }
   ],
   "source": [
    "prices_col.insert_many(ave_insert)"
   ]
  }
 ],
 "metadata": {
  "kernelspec": {
   "display_name": "Python 3",
   "language": "python",
   "name": "python3"
  },
  "language_info": {
   "codemirror_mode": {
    "name": "ipython",
    "version": 3
   },
   "file_extension": ".py",
   "mimetype": "text/x-python",
   "name": "python",
   "nbconvert_exporter": "python",
   "pygments_lexer": "ipython3",
   "version": "3.4.3"
  }
 },
 "nbformat": 4,
 "nbformat_minor": 2
}
